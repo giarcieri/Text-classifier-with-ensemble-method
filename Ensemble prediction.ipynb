{
 "cells": [
  {
   "cell_type": "code",
   "execution_count": 1,
   "metadata": {},
   "outputs": [],
   "source": [
    "import pandas as pd\n",
    "from sklearn.model_selection import train_test_split\n",
    "from imblearn.over_sampling import RandomOverSampler\n",
    "from sklearn.feature_extraction import text \n",
    "from sklearn.feature_extraction.text import CountVectorizer as countvec\n",
    "from sklearn.ensemble import VotingClassifier \n",
    "from sklearn.linear_model import LogisticRegression \n",
    "from sklearn.svm import SVC\n",
    "from sklearn.linear_model import SGDClassifier\n",
    "from sklearn.naive_bayes import MultinomialNB\n",
    "from sklearn.metrics import f1_score\n",
    "import random\n",
    "random.seed(0)"
   ]
  },
  {
   "cell_type": "code",
   "execution_count": 2,
   "metadata": {},
   "outputs": [
    {
     "data": {
      "text/html": [
       "<div>\n",
       "<style scoped>\n",
       "    .dataframe tbody tr th:only-of-type {\n",
       "        vertical-align: middle;\n",
       "    }\n",
       "\n",
       "    .dataframe tbody tr th {\n",
       "        vertical-align: top;\n",
       "    }\n",
       "\n",
       "    .dataframe thead th {\n",
       "        text-align: right;\n",
       "    }\n",
       "</style>\n",
       "<table border=\"1\" class=\"dataframe\">\n",
       "  <thead>\n",
       "    <tr style=\"text-align: right;\">\n",
       "      <th></th>\n",
       "      <th>text</th>\n",
       "      <th>label</th>\n",
       "    </tr>\n",
       "  </thead>\n",
       "  <tbody>\n",
       "    <tr>\n",
       "      <th>0</th>\n",
       "      <td>RT @USER: when you in a public place and ya si...</td>\n",
       "      <td>NG</td>\n",
       "    </tr>\n",
       "    <tr>\n",
       "      <th>1</th>\n",
       "      <td>@USER he ate my pussy i could..</td>\n",
       "      <td>NG</td>\n",
       "    </tr>\n",
       "    <tr>\n",
       "      <th>2</th>\n",
       "      <td>When you give somebody that \"bitch\" look</td>\n",
       "      <td>NG</td>\n",
       "    </tr>\n",
       "    <tr>\n",
       "      <th>3</th>\n",
       "      <td>Double Stuff Oreos mane say</td>\n",
       "      <td>OK</td>\n",
       "    </tr>\n",
       "    <tr>\n",
       "      <th>4</th>\n",
       "      <td>@USER lol la bitch happy bout Beatin our bench...</td>\n",
       "      <td>NG</td>\n",
       "    </tr>\n",
       "    <tr>\n",
       "      <th>...</th>\n",
       "      <td>...</td>\n",
       "      <td>...</td>\n",
       "    </tr>\n",
       "    <tr>\n",
       "      <th>18677</th>\n",
       "      <td>RT @USER: @USER @USER @USER @USER fuck no id b...</td>\n",
       "      <td>NG</td>\n",
       "    </tr>\n",
       "    <tr>\n",
       "      <th>18678</th>\n",
       "      <td>\"@USER: \"@USER: \"@USER: \"@USER: @USER swears I...</td>\n",
       "      <td>OK</td>\n",
       "    </tr>\n",
       "    <tr>\n",
       "      <th>18679</th>\n",
       "      <td>Its wayyyyy more going on now than 2 have u pu...</td>\n",
       "      <td>NG</td>\n",
       "    </tr>\n",
       "    <tr>\n",
       "      <th>18680</th>\n",
       "      <td>Mum agrees with me, ur being a wee moody cunt ...</td>\n",
       "      <td>NG</td>\n",
       "    </tr>\n",
       "    <tr>\n",
       "      <th>18681</th>\n",
       "      <td>Yea, Mike had a bitch-ass referee in Tokyo @USER</td>\n",
       "      <td>NG</td>\n",
       "    </tr>\n",
       "  </tbody>\n",
       "</table>\n",
       "<p>18682 rows × 2 columns</p>\n",
       "</div>"
      ],
      "text/plain": [
       "                                                    text label\n",
       "0      RT @USER: when you in a public place and ya si...    NG\n",
       "1                        @USER he ate my pussy i could..    NG\n",
       "2               When you give somebody that \"bitch\" look    NG\n",
       "3                            Double Stuff Oreos mane say    OK\n",
       "4      @USER lol la bitch happy bout Beatin our bench...    NG\n",
       "...                                                  ...   ...\n",
       "18677  RT @USER: @USER @USER @USER @USER fuck no id b...    NG\n",
       "18678  \"@USER: \"@USER: \"@USER: \"@USER: @USER swears I...    OK\n",
       "18679  Its wayyyyy more going on now than 2 have u pu...    NG\n",
       "18680  Mum agrees with me, ur being a wee moody cunt ...    NG\n",
       "18681   Yea, Mike had a bitch-ass referee in Tokyo @USER    NG\n",
       "\n",
       "[18682 rows x 2 columns]"
      ]
     },
     "execution_count": 2,
     "metadata": {},
     "output_type": "execute_result"
    }
   ],
   "source": [
    "df = pd.read_csv(r'./data/train.tsv', sep='\\t') # import training set\n",
    "df"
   ]
  },
  {
   "cell_type": "code",
   "execution_count": 3,
   "metadata": {},
   "outputs": [
    {
     "name": "stdout",
     "output_type": "stream",
     "text": [
      "(18682, 2)\n",
      "NG    15352\n",
      "OK     3330\n",
      "Name: label, dtype: int64\n"
     ]
    }
   ],
   "source": [
    "print(df.shape) \n",
    "print(df.label.value_counts()) #data unbalanced: need to be under/oversampled"
   ]
  },
  {
   "cell_type": "code",
   "execution_count": 4,
   "metadata": {},
   "outputs": [],
   "source": [
    "X = df[['text']]\n",
    "y = df[['label']].replace({'NG': 0, 'OK': 1}) "
   ]
  },
  {
   "cell_type": "code",
   "execution_count": 5,
   "metadata": {},
   "outputs": [
    {
     "name": "stdout",
     "output_type": "stream",
     "text": [
      "(18682, 1)\n",
      "(18682, 1)\n",
      "(30704, 1)\n",
      "(30704, 1)\n"
     ]
    }
   ],
   "source": [
    "# Oversample the data\n",
    "print(X.shape)\n",
    "print(y.shape)\n",
    "ros = RandomOverSampler(random_state=0)\n",
    "X_oversampled, y_oversampled = ros.fit_resample(X, y)\n",
    "print(X_oversampled.shape)\n",
    "print(y_oversampled.shape)"
   ]
  },
  {
   "cell_type": "code",
   "execution_count": 6,
   "metadata": {},
   "outputs": [
    {
     "data": {
      "text/html": [
       "<div>\n",
       "<style scoped>\n",
       "    .dataframe tbody tr th:only-of-type {\n",
       "        vertical-align: middle;\n",
       "    }\n",
       "\n",
       "    .dataframe tbody tr th {\n",
       "        vertical-align: top;\n",
       "    }\n",
       "\n",
       "    .dataframe thead th {\n",
       "        text-align: right;\n",
       "    }\n",
       "</style>\n",
       "<table border=\"1\" class=\"dataframe\">\n",
       "  <thead>\n",
       "    <tr style=\"text-align: right;\">\n",
       "      <th></th>\n",
       "      <th>text</th>\n",
       "      <th>label</th>\n",
       "    </tr>\n",
       "  </thead>\n",
       "  <tbody>\n",
       "    <tr>\n",
       "      <th>0</th>\n",
       "      <td>RT @USER: when you in a public place and ya si...</td>\n",
       "      <td>0</td>\n",
       "    </tr>\n",
       "    <tr>\n",
       "      <th>1</th>\n",
       "      <td>@USER he ate my pussy i could..</td>\n",
       "      <td>0</td>\n",
       "    </tr>\n",
       "    <tr>\n",
       "      <th>2</th>\n",
       "      <td>When you give somebody that \"bitch\" look</td>\n",
       "      <td>0</td>\n",
       "    </tr>\n",
       "    <tr>\n",
       "      <th>3</th>\n",
       "      <td>Double Stuff Oreos mane say</td>\n",
       "      <td>1</td>\n",
       "    </tr>\n",
       "    <tr>\n",
       "      <th>4</th>\n",
       "      <td>@USER lol la bitch happy bout Beatin our bench...</td>\n",
       "      <td>0</td>\n",
       "    </tr>\n",
       "    <tr>\n",
       "      <th>...</th>\n",
       "      <td>...</td>\n",
       "      <td>...</td>\n",
       "    </tr>\n",
       "    <tr>\n",
       "      <th>30699</th>\n",
       "      <td>“@USER: When twitter rappers dm me their trash...</td>\n",
       "      <td>1</td>\n",
       "    </tr>\n",
       "    <tr>\n",
       "      <th>30700</th>\n",
       "      <td>RT @USER: Autographed Photo of Babe Ruth and L...</td>\n",
       "      <td>1</td>\n",
       "    </tr>\n",
       "    <tr>\n",
       "      <th>30701</th>\n",
       "      <td>Why can't I have colored eyes like my siblings 😭😭</td>\n",
       "      <td>1</td>\n",
       "    </tr>\n",
       "    <tr>\n",
       "      <th>30702</th>\n",
       "      <td>@USER you a Oreo cookie now.</td>\n",
       "      <td>1</td>\n",
       "    </tr>\n",
       "    <tr>\n",
       "      <th>30703</th>\n",
       "      <td>RT @USER: @USER @USER he plays for the Yankees...</td>\n",
       "      <td>1</td>\n",
       "    </tr>\n",
       "  </tbody>\n",
       "</table>\n",
       "<p>30704 rows × 2 columns</p>\n",
       "</div>"
      ],
      "text/plain": [
       "                                                    text  label\n",
       "0      RT @USER: when you in a public place and ya si...      0\n",
       "1                        @USER he ate my pussy i could..      0\n",
       "2               When you give somebody that \"bitch\" look      0\n",
       "3                            Double Stuff Oreos mane say      1\n",
       "4      @USER lol la bitch happy bout Beatin our bench...      0\n",
       "...                                                  ...    ...\n",
       "30699  “@USER: When twitter rappers dm me their trash...      1\n",
       "30700  RT @USER: Autographed Photo of Babe Ruth and L...      1\n",
       "30701  Why can't I have colored eyes like my siblings 😭😭      1\n",
       "30702                       @USER you a Oreo cookie now.      1\n",
       "30703  RT @USER: @USER @USER he plays for the Yankees...      1\n",
       "\n",
       "[30704 rows x 2 columns]"
      ]
     },
     "execution_count": 6,
     "metadata": {},
     "output_type": "execute_result"
    }
   ],
   "source": [
    "df = pd.concat([X_oversampled, y_oversampled], axis = 1)\n",
    "df"
   ]
  },
  {
   "cell_type": "code",
   "execution_count": 7,
   "metadata": {},
   "outputs": [],
   "source": [
    "X_oversampled = df.iloc[:, 0]\n",
    "y_oversampled = df.iloc[:, 1]"
   ]
  },
  {
   "cell_type": "code",
   "execution_count": 8,
   "metadata": {},
   "outputs": [
    {
     "name": "stdout",
     "output_type": "stream",
     "text": [
      "LogisticRegression 0.9737717299220434\n",
      "SVC 0.9770319302962809\n",
      "MultinomialNB 0.9607540745284919\n",
      "VotingClassifier 0.9780126893517511\n"
     ]
    }
   ],
   "source": [
    "# Split data in train and test with 0.2 factor\n",
    "X_train, X_test, y_train, y_test = train_test_split(X_oversampled, y_oversampled, test_size=0.2, random_state=0)\n",
    "\n",
    "# Create customized stopping words set by including english stop words and @USER and {{URL}}\n",
    "my_additional_stop_words = {'@USER', '{{URL}}', 'url', 'user'}\n",
    "stop_words = text.ENGLISH_STOP_WORDS.union(my_additional_stop_words)\n",
    "\n",
    "# Bag of Words and delete stopping words\n",
    "countvec = countvec(strip_accents='unicode', stop_words=stop_words, analyzer='word')\n",
    "\n",
    "X_train_counts = countvec.fit_transform(X_train)\n",
    "X_test_counts = countvec.transform(X_test)\n",
    "\n",
    "# Initialize classifiers\n",
    "log_clf = LogisticRegression(n_jobs=-1)\n",
    "sgd_clf = SGDClassifier(loss='modified_huber', n_jobs=-1)\n",
    "svm_clf = SVC(probability=True)\n",
    "mnb_clf = MultinomialNB()\n",
    "voting_clf = VotingClassifier( \n",
    "    estimators=[('lr', log_clf), ('svm', svm_clf), ('mnb', mnb_clf)], \n",
    "    voting='soft', n_jobs=-1)\n",
    "\n",
    "#Train and evaluation\n",
    "for clf in (log_clf, svm_clf, mnb_clf, voting_clf):\n",
    "    clf.fit(X_train_counts, y_train)\n",
    "    y_pred = clf.predict(X_test_counts)\n",
    "    print(clf.__class__.__name__, f1_score(y_test, y_pred, average = 'macro')) "
   ]
  },
  {
   "cell_type": "code",
   "execution_count": null,
   "metadata": {},
   "outputs": [],
   "source": []
  }
 ],
 "metadata": {
  "kernelspec": {
   "display_name": "Python 3",
   "language": "python",
   "name": "python3"
  },
  "language_info": {
   "codemirror_mode": {
    "name": "ipython",
    "version": 3
   },
   "file_extension": ".py",
   "mimetype": "text/x-python",
   "name": "python",
   "nbconvert_exporter": "python",
   "pygments_lexer": "ipython3",
   "version": "3.7.6"
  }
 },
 "nbformat": 4,
 "nbformat_minor": 2
}
